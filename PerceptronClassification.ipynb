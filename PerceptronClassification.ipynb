{
 "cells": [
  {
   "cell_type": "code",
   "execution_count": 1,
   "metadata": {},
   "outputs": [],
   "source": [
    "import numpy as np\n",
    "from matplotlib import pyplot as plt\n",
    "import torch\n",
    "import torch.nn as nn"
   ]
  },
  {
   "cell_type": "markdown",
   "metadata": {},
   "source": [
    "# Dataset"
   ]
  },
  {
   "cell_type": "code",
   "execution_count": 2,
   "metadata": {},
   "outputs": [],
   "source": [
    "n_samples = 10\n",
    "cluster_radius = 3.5\n",
    "dataset = np.zeros((n_samples * 2, 3), dtype=np.float32)"
   ]
  },
  {
   "cell_type": "markdown",
   "metadata": {},
   "source": [
    "## Cluster 0"
   ]
  },
  {
   "cell_type": "code",
   "execution_count": 3,
   "metadata": {},
   "outputs": [],
   "source": [
    "centroid_0 = np.array([1, 1], dtype=np.float32)\n",
    "\n",
    "sample_radio = (cluster_radius * np.random.uniform(0, 1, n_samples))\n",
    "sample_angl = (2 * np.pi * np.random.uniform(0, 1, n_samples))\n",
    "\n",
    "dataset[:n_samples, 0] = centroid_0[0] + sample_radio[:]*(np.cos(sample_angl[:]))\n",
    "dataset[:n_samples, 1] = centroid_0[1] + sample_radio[:]*(np.sin(sample_angl[:]))"
   ]
  },
  {
   "cell_type": "markdown",
   "metadata": {},
   "source": [
    "## Cluster 1"
   ]
  },
  {
   "cell_type": "code",
   "execution_count": 4,
   "metadata": {},
   "outputs": [],
   "source": [
    "centroid_1 = np.array([8, 8], dtype=np.float32)\n",
    "\n",
    "sample_radio = (cluster_radius * np.random.uniform(0, 1, n_samples))\n",
    "sample_angl = (2 * np.pi * np.random.uniform(0, 1, n_samples))\n",
    "\n",
    "dataset[n_samples:, 0] = centroid_1[0] + sample_radio[:]*(np.cos(sample_angl[:]))\n",
    "dataset[n_samples:, 1] = centroid_1[1] + sample_radio[:]*(np.sin(sample_angl[:]))\n",
    "dataset[n_samples:, 2] = 1"
   ]
  },
  {
   "cell_type": "code",
   "execution_count": 5,
   "metadata": {},
   "outputs": [
    {
     "name": "stdout",
     "output_type": "stream",
     "text": [
      "(20, 3)\n",
      "[[9.704624  6.787508  1.       ]\n",
      " [5.5202665 8.742043  1.       ]\n",
      " [9.80869   9.354586  1.       ]]\n"
     ]
    }
   ],
   "source": [
    "print(dataset.shape)\n",
    "print(dataset[12:15])"
   ]
  },
  {
   "cell_type": "markdown",
   "metadata": {},
   "source": [
    "## Visualization"
   ]
  },
  {
   "cell_type": "code",
   "execution_count": 6,
   "metadata": {},
   "outputs": [
    {
     "data": {
      "image/png": "[encoded data removed]",
      "image/svg+xml": "<?xml version=\"1.0\" encoding=\"utf-8\" standalone=\"no\"?>\n<!DOCTYPE svg PUBLIC \"-//W3C//DTD SVG 1.1//EN\"\n  \"http://www.w3.org/Graphics/SVG/1.1/DTD/svg11.dtd\">\n<svg xmlns:xlink=\"http://www.w3.org/1999/xlink\" width=\"368.925pt\" height=\"248.518125pt\" viewBox=\"0 0 368.925 248.518125\" xmlns=\"http://www.w3.org/2000/svg\" version=\"1.1\">\n <metadata>\n  <rdf:RDF xmlns:dc=\"http://purl.org/dc/elements/1.1/\" xmlns:cc=\"http://creativecommons.org/ns#\" xmlns:rdf=\"http://www.w3.org/1999/02/22-rdf-syntax-ns#\">\n   <cc:Work>\n    <dc:type rdf:resource=\"http://purl.org/dc/dcmitype/StillImage\"/>\n    <dc:date>2022-03-22T11:08:50.523641</dc:date>\n    <dc:format>image/svg+xml</dc:format>\n    <dc:creator>\n     <cc:Agent>\n      <dc:title>Matplotlib v3.5.1, https://matplotlib.org/</dc:title>\n     </cc:Agent>\n    </dc:creator>\n   </cc:Work>\n  </rdf:RDF>\n </metadata>\n <defs>\n  <style type=\"text/css\">*{stroke-linejoin: round; stroke-linecap: butt}</style>\n </defs>\n <g id=\"figure_1\">\n  <g id=\"patch_1\">\n   <path d=\"M -0 248.518125 \nL 368.925 248.518125 \nL 368.925 0 \nL -0 0 \nz\n\"/>\n  </g>\n  <g id=\"axes_1\">\n   <g id=\"patch_2\">\n    <path d=\"M 26.925 224.64 \nL 361.725 224.64 \nL 361.725 7.2 \nL 26.925 7.2 \nz\n\"/>\n   </g>\n   <g id=\"PathCollection_1\">\n    <defs>\n     <path id=\"m0cf370469f\" d=\"M 0 3 \nC 0.795609 3 1.55874 2.683901 2.12132 2.12132 \nC 2.683901 1.55874 3 0.795609 3 0 \nC 3 -0.795609 2.683901 -1.55874 2.12132 -2.12132 \nC 1.55874 -2.683901 0.795609 -3 0 -3 \nC -0.795609 -3 -1.55874 -2.683901 -2.12132 -2.12132 \nC -2.683901 -1.55874 -3 -0.795609 -3 0 \nC -3 0.795609 -2.683901 1.55874 -2.12132 2.12132 \nC -1.55874 2.683901 -0.795609 3 0 3 \nz\n\" style=\"stroke: #8dd3c7\"/>\n    </defs>\n    <g clip-path=\"url(#pae1deb3517)\">\n     <use xlink:href=\"#m0cf370469f\" x=\"106.308364\" y=\"214.756364\" style=\"fill: #8dd3c7; stroke: #8dd3c7\"/>\n     <use xlink:href=\"#m0cf370469f\" x=\"96.661263\" y=\"150.508009\" style=\"fill: #8dd3c7; stroke: #8dd3c7\"/>\n     <use xlink:href=\"#m0cf370469f\" x=\"139.862273\" y=\"213.031993\" style=\"fill: #8dd3c7; stroke: #8dd3c7\"/>\n     <use xlink:href=\"#m0cf370469f\" x=\"161.134032\" y=\"197.205007\" style=\"fill: #8dd3c7; stroke: #8dd3c7\"/>\n     <use xlink:href=\"#m0cf370469f\" x=\"106.70121\" y=\"156.973001\" style=\"fill: #8dd3c7; stroke: #8dd3c7\"/>\n     <use xlink:href=\"#m0cf370469f\" x=\"72.014484\" y=\"205.457672\" style=\"fill: #8dd3c7; stroke: #8dd3c7\"/>\n     <use xlink:href=\"#m0cf370469f\" x=\"77.161076\" y=\"168.534345\" style=\"fill: #8dd3c7; stroke: #8dd3c7\"/>\n     <use xlink:href=\"#m0cf370469f\" x=\"113.816848\" y=\"172.650115\" style=\"fill: #8dd3c7; stroke: #8dd3c7\"/>\n     <use xlink:href=\"#m0cf370469f\" x=\"161.41854\" y=\"143.990052\" style=\"fill: #8dd3c7; stroke: #8dd3c7\"/>\n     <use xlink:href=\"#m0cf370469f\" x=\"42.143182\" y=\"209.865425\" style=\"fill: #8dd3c7; stroke: #8dd3c7\"/>\n    </g>\n   </g>\n   <g id=\"PathCollection_2\">\n    <defs>\n     <path id=\"m8976dca31d\" d=\"M 0 3 \nC 0.795609 3 1.55874 2.683901 2.12132 2.12132 \nC 2.683901 1.55874 3 0.795609 3 0 \nC 3 -0.795609 2.683901 -1.55874 2.12132 -2.12132 \nC 1.55874 -2.683901 0.795609 -3 0 -3 \nC -0.795609 -3 -1.55874 -2.683901 -2.12132 -2.12132 \nC -2.683901 -1.55874 -3 -0.795609 -3 0 \nC -3 0.795609 -2.683901 1.55874 -2.12132 2.12132 \nC -1.55874 2.683901 -0.795609 3 0 3 \nz\n\" style=\"stroke: #feffb3\"/>\n    </defs>\n    <g clip-path=\"url(#pae1deb3517)\">\n     <use xlink:href=\"#m8976dca31d\" x=\"266.138521\" y=\"23.361605\" style=\"fill: #feffb3; stroke: #feffb3\"/>\n     <use xlink:href=\"#m8976dca31d\" x=\"245.172967\" y=\"66.172321\" style=\"fill: #feffb3; stroke: #feffb3\"/>\n     <use xlink:href=\"#m8976dca31d\" x=\"338.900317\" y=\"72.413391\" style=\"fill: #feffb3; stroke: #feffb3\"/>\n     <use xlink:href=\"#m8976dca31d\" x=\"225.262463\" y=\"37.403108\" style=\"fill: #feffb3; stroke: #feffb3\"/>\n     <use xlink:href=\"#m8976dca31d\" x=\"341.726515\" y=\"26.431029\" style=\"fill: #feffb3; stroke: #feffb3\"/>\n     <use xlink:href=\"#m8976dca31d\" x=\"295.821025\" y=\"50.843298\" style=\"fill: #feffb3; stroke: #feffb3\"/>\n     <use xlink:href=\"#m8976dca31d\" x=\"307.227138\" y=\"20.354566\" style=\"fill: #feffb3; stroke: #feffb3\"/>\n     <use xlink:href=\"#m8976dca31d\" x=\"346.492496\" y=\"17.083636\" style=\"fill: #feffb3; stroke: #feffb3\"/>\n     <use xlink:href=\"#m8976dca31d\" x=\"346.506818\" y=\"31.666844\" style=\"fill: #feffb3; stroke: #feffb3\"/>\n     <use xlink:href=\"#m8976dca31d\" x=\"320.397356\" y=\"44.231528\" style=\"fill: #feffb3; stroke: #feffb3\"/>\n    </g>\n   </g>\n   <g id=\"PathCollection_3\">\n    <defs>\n     <path id=\"mb452e0f3c2\" d=\"M 0 3 \nC 0.795609 3 1.55874 2.683901 2.12132 2.12132 \nC 2.683901 1.55874 3 0.795609 3 0 \nC 3 -0.795609 2.683901 -1.55874 2.12132 -2.12132 \nC 1.55874 -2.683901 0.795609 -3 0 -3 \nC -0.795609 -3 -1.55874 -2.683901 -2.12132 -2.12132 \nC -2.683901 -1.55874 -3 -0.795609 -3 0 \nC -3 0.795609 -2.683901 1.55874 -2.12132 2.12132 \nC -1.55874 2.683901 -0.795609 3 0 3 \nz\n\" style=\"stroke: #ffff00\"/>\n    </defs>\n    <g clip-path=\"url(#pae1deb3517)\">\n     <use xlink:href=\"#mb452e0f3c2\" x=\"102.50207\" y=\"176.081189\" style=\"fill: #ffff00; stroke: #ffff00\"/>\n    </g>\n   </g>\n   <g id=\"PathCollection_4\">\n    <g clip-path=\"url(#pae1deb3517)\">\n     <use xlink:href=\"#mb452e0f3c2\" x=\"292.606513\" y=\"50.694825\" style=\"fill: #ffff00; stroke: #ffff00\"/>\n    </g>\n   </g>\n   <g id=\"matplotlib.axis_1\">\n    <g id=\"xtick_1\">\n     <g id=\"line2d_1\">\n      <defs>\n       <path id=\"md1ac1c81d8\" d=\"M 0 0 \nL 0 3.5 \n\" style=\"stroke: #ffffff; stroke-width: 0.8\"/>\n      </defs>\n      <g>\n       <use xlink:href=\"#md1ac1c81d8\" x=\"75.344292\" y=\"224.64\" style=\"fill: #ffffff; stroke: #ffffff; stroke-width: 0.8\"/>\n      </g>\n     </g>\n     <g id=\"text_1\">\n      <!-- 0 -->\n      <g style=\"fill: #ffffff\" transform=\"translate(72.163042 239.238437)scale(0.1 -0.1)\">\n       <defs>\n        <path id=\"DejaVuSans-30\" d=\"M 2034 4250 \nQ 1547 4250 1301 3770 \nQ 1056 3291 1056 2328 \nQ 1056 1369 1301 889 \nQ 1547 409 2034 409 \nQ 2525 409 2770 889 \nQ 3016 1369 3016 2328 \nQ 3016 3291 2770 3770 \nQ 2525 4250 2034 4250 \nz\nM 2034 4750 \nQ 2819 4750 3233 4129 \nQ 3647 3509 3647 2328 \nQ 3647 1150 3233 529 \nQ 2819 -91 2034 -91 \nQ 1250 -91 836 529 \nQ 422 1150 422 2328 \nQ 422 3509 836 4129 \nQ 1250 4750 2034 4750 \nz\n\" transform=\"scale(0.015625)\"/>\n       </defs>\n       <use xlink:href=\"#DejaVuSans-30\"/>\n      </g>\n     </g>\n    </g>\n    <g id=\"xtick_2\">\n     <g id=\"line2d_2\">\n      <g>\n       <use xlink:href=\"#md1ac1c81d8\" x=\"129.659847\" y=\"224.64\" style=\"fill: #ffffff; stroke: #ffffff; stroke-width: 0.8\"/>\n      </g>\n     </g>\n     <g id=\"text_2\">\n      <!-- 2 -->\n      <g style=\"fill: #ffffff\" transform=\"translate(126.478597 239.238437)scale(0.1 -0.1)\">\n       <defs>\n        <path id=\"DejaVuSans-32\" d=\"M 1228 531 \nL 3431 531 \nL 3431 0 \nL 469 0 \nL 469 531 \nQ 828 903 1448 1529 \nQ 2069 2156 2228 2338 \nQ 2531 2678 2651 2914 \nQ 2772 3150 2772 3378 \nQ 2772 3750 2511 3984 \nQ 2250 4219 1831 4219 \nQ 1534 4219 1204 4116 \nQ 875 4013 500 3803 \nL 500 4441 \nQ 881 4594 1212 4672 \nQ 1544 4750 1819 4750 \nQ 2544 4750 2975 4387 \nQ 3406 4025 3406 3419 \nQ 3406 3131 3298 2873 \nQ 3191 2616 2906 2266 \nQ 2828 2175 2409 1742 \nQ 1991 1309 1228 531 \nz\n\" transform=\"scale(0.015625)\"/>\n       </defs>\n       <use xlink:href=\"#DejaVuSans-32\"/>\n      </g>\n     </g>\n    </g>\n    <g id=\"xtick_3\">\n     <g id=\"line2d_3\">\n      <g>\n       <use xlink:href=\"#md1ac1c81d8\" x=\"183.975402\" y=\"224.64\" style=\"fill: #ffffff; stroke: #ffffff; stroke-width: 0.8\"/>\n      </g>\n     </g>\n     <g id=\"text_3\">\n      <!-- 4 -->\n      <g style=\"fill: #ffffff\" transform=\"translate(180.794152 239.238437)scale(0.1 -0.1)\">\n       <defs>\n        <path id=\"DejaVuSans-34\" d=\"M 2419 4116 \nL 825 1625 \nL 2419 1625 \nL 2419 4116 \nz\nM 2253 4666 \nL 3047 4666 \nL 3047 1625 \nL 3713 1625 \nL 3713 1100 \nL 3047 1100 \nL 3047 0 \nL 2419 0 \nL 2419 1100 \nL 313 1100 \nL 313 1709 \nL 2253 4666 \nz\n\" transform=\"scale(0.015625)\"/>\n       </defs>\n       <use xlink:href=\"#DejaVuSans-34\"/>\n      </g>\n     </g>\n    </g>\n    <g id=\"xtick_4\">\n     <g id=\"line2d_4\">\n      <g>\n       <use xlink:href=\"#md1ac1c81d8\" x=\"238.290958\" y=\"224.64\" style=\"fill: #ffffff; stroke: #ffffff; stroke-width: 0.8\"/>\n      </g>\n     </g>\n     <g id=\"text_4\">\n      <!-- 6 -->\n      <g style=\"fill: #ffffff\" transform=\"translate(235.109708 239.238437)scale(0.1 -0.1)\">\n       <defs>\n        <path id=\"DejaVuSans-36\" d=\"M 2113 2584 \nQ 1688 2584 1439 2293 \nQ 1191 2003 1191 1497 \nQ 1191 994 1439 701 \nQ 1688 409 2113 409 \nQ 2538 409 2786 701 \nQ 3034 994 3034 1497 \nQ 3034 2003 2786 2293 \nQ 2538 2584 2113 2584 \nz\nM 3366 4563 \nL 3366 3988 \nQ 3128 4100 2886 4159 \nQ 2644 4219 2406 4219 \nQ 1781 4219 1451 3797 \nQ 1122 3375 1075 2522 \nQ 1259 2794 1537 2939 \nQ 1816 3084 2150 3084 \nQ 2853 3084 3261 2657 \nQ 3669 2231 3669 1497 \nQ 3669 778 3244 343 \nQ 2819 -91 2113 -91 \nQ 1303 -91 875 529 \nQ 447 1150 447 2328 \nQ 447 3434 972 4092 \nQ 1497 4750 2381 4750 \nQ 2619 4750 2861 4703 \nQ 3103 4656 3366 4563 \nz\n\" transform=\"scale(0.015625)\"/>\n       </defs>\n       <use xlink:href=\"#DejaVuSans-36\"/>\n      </g>\n     </g>\n    </g>\n    <g id=\"xtick_5\">\n     <g id=\"line2d_5\">\n      <g>\n       <use xlink:href=\"#md1ac1c81d8\" x=\"292.606513\" y=\"224.64\" style=\"fill: #ffffff; stroke: #ffffff; stroke-width: 0.8\"/>\n      </g>\n     </g>\n     <g id=\"text_5\">\n      <!-- 8 -->\n      <g style=\"fill: #ffffff\" transform=\"translate(289.425263 239.238437)scale(0.1 -0.1)\">\n       <defs>\n        <path id=\"DejaVuSans-38\" d=\"M 2034 2216 \nQ 1584 2216 1326 1975 \nQ 1069 1734 1069 1313 \nQ 1069 891 1326 650 \nQ 1584 409 2034 409 \nQ 2484 409 2743 651 \nQ 3003 894 3003 1313 \nQ 3003 1734 2745 1975 \nQ 2488 2216 2034 2216 \nz\nM 1403 2484 \nQ 997 2584 770 2862 \nQ 544 3141 544 3541 \nQ 544 4100 942 4425 \nQ 1341 4750 2034 4750 \nQ 2731 4750 3128 4425 \nQ 3525 4100 3525 3541 \nQ 3525 3141 3298 2862 \nQ 3072 2584 2669 2484 \nQ 3125 2378 3379 2068 \nQ 3634 1759 3634 1313 \nQ 3634 634 3220 271 \nQ 2806 -91 2034 -91 \nQ 1263 -91 848 271 \nQ 434 634 434 1313 \nQ 434 1759 690 2068 \nQ 947 2378 1403 2484 \nz\nM 1172 3481 \nQ 1172 3119 1398 2916 \nQ 1625 2713 2034 2713 \nQ 2441 2713 2670 2916 \nQ 2900 3119 2900 3481 \nQ 2900 3844 2670 4047 \nQ 2441 4250 2034 4250 \nQ 1625 4250 1398 4047 \nQ 1172 3844 1172 3481 \nz\n\" transform=\"scale(0.015625)\"/>\n       </defs>\n       <use xlink:href=\"#DejaVuSans-38\"/>\n      </g>\n     </g>\n    </g>\n    <g id=\"xtick_6\">\n     <g id=\"line2d_6\">\n      <g>\n       <use xlink:href=\"#md1ac1c81d8\" x=\"346.922068\" y=\"224.64\" style=\"fill: #ffffff; stroke: #ffffff; stroke-width: 0.8\"/>\n      </g>\n     </g>\n     <g id=\"text_6\">\n      <!-- 10 -->\n      <g style=\"fill: #ffffff\" transform=\"translate(340.559568 239.238437)scale(0.1 -0.1)\">\n       <defs>\n        <path id=\"DejaVuSans-31\" d=\"M 794 531 \nL 1825 531 \nL 1825 4091 \nL 703 3866 \nL 703 4441 \nL 1819 4666 \nL 2450 4666 \nL 2450 531 \nL 3481 531 \nL 3481 0 \nL 794 0 \nL 794 531 \nz\n\" transform=\"scale(0.015625)\"/>\n       </defs>\n       <use xlink:href=\"#DejaVuSans-31\"/>\n       <use xlink:href=\"#DejaVuSans-30\" x=\"63.623047\"/>\n      </g>\n     </g>\n    </g>\n   </g>\n   <g id=\"matplotlib.axis_2\">\n    <g id=\"ytick_1\">\n     <g id=\"line2d_7\">\n      <defs>\n       <path id=\"m1cd05d26a2\" d=\"M 0 0 \nL -3.5 0 \n\" style=\"stroke: #ffffff; stroke-width: 0.8\"/>\n      </defs>\n      <g>\n       <use xlink:href=\"#m1cd05d26a2\" x=\"26.925\" y=\"193.993527\" style=\"fill: #ffffff; stroke: #ffffff; stroke-width: 0.8\"/>\n      </g>\n     </g>\n     <g id=\"text_7\">\n      <!-- 0 -->\n      <g style=\"fill: #ffffff\" transform=\"translate(13.5625 197.792746)scale(0.1 -0.1)\">\n       <use xlink:href=\"#DejaVuSans-30\"/>\n      </g>\n     </g>\n    </g>\n    <g id=\"ytick_2\">\n     <g id=\"line2d_8\">\n      <g>\n       <use xlink:href=\"#m1cd05d26a2\" x=\"26.925\" y=\"158.168852\" style=\"fill: #ffffff; stroke: #ffffff; stroke-width: 0.8\"/>\n      </g>\n     </g>\n     <g id=\"text_8\">\n      <!-- 2 -->\n      <g style=\"fill: #ffffff\" transform=\"translate(13.5625 161.96807)scale(0.1 -0.1)\">\n       <use xlink:href=\"#DejaVuSans-32\"/>\n      </g>\n     </g>\n    </g>\n    <g id=\"ytick_3\">\n     <g id=\"line2d_9\">\n      <g>\n       <use xlink:href=\"#m1cd05d26a2\" x=\"26.925\" y=\"122.344176\" style=\"fill: #ffffff; stroke: #ffffff; stroke-width: 0.8\"/>\n      </g>\n     </g>\n     <g id=\"text_9\">\n      <!-- 4 -->\n      <g style=\"fill: #ffffff\" transform=\"translate(13.5625 126.143395)scale(0.1 -0.1)\">\n       <use xlink:href=\"#DejaVuSans-34\"/>\n      </g>\n     </g>\n    </g>\n    <g id=\"ytick_4\">\n     <g id=\"line2d_10\">\n      <g>\n       <use xlink:href=\"#m1cd05d26a2\" x=\"26.925\" y=\"86.519501\" style=\"fill: #ffffff; stroke: #ffffff; stroke-width: 0.8\"/>\n      </g>\n     </g>\n     <g id=\"text_10\">\n      <!-- 6 -->\n      <g style=\"fill: #ffffff\" transform=\"translate(13.5625 90.318719)scale(0.1 -0.1)\">\n       <use xlink:href=\"#DejaVuSans-36\"/>\n      </g>\n     </g>\n    </g>\n    <g id=\"ytick_5\">\n     <g id=\"line2d_11\">\n      <g>\n       <use xlink:href=\"#m1cd05d26a2\" x=\"26.925\" y=\"50.694825\" style=\"fill: #ffffff; stroke: #ffffff; stroke-width: 0.8\"/>\n      </g>\n     </g>\n     <g id=\"text_11\">\n      <!-- 8 -->\n      <g style=\"fill: #ffffff\" transform=\"translate(13.5625 54.494044)scale(0.1 -0.1)\">\n       <use xlink:href=\"#DejaVuSans-38\"/>\n      </g>\n     </g>\n    </g>\n    <g id=\"ytick_6\">\n     <g id=\"line2d_12\">\n      <g>\n       <use xlink:href=\"#m1cd05d26a2\" x=\"26.925\" y=\"14.87015\" style=\"fill: #ffffff; stroke: #ffffff; stroke-width: 0.8\"/>\n      </g>\n     </g>\n     <g id=\"text_12\">\n      <!-- 10 -->\n      <g style=\"fill: #ffffff\" transform=\"translate(7.2 18.669368)scale(0.1 -0.1)\">\n       <use xlink:href=\"#DejaVuSans-31\"/>\n       <use xlink:href=\"#DejaVuSans-30\" x=\"63.623047\"/>\n      </g>\n     </g>\n    </g>\n   </g>\n   <g id=\"patch_3\">\n    <path d=\"M 26.925 224.64 \nL 26.925 7.2 \n\" style=\"fill: none; stroke: #ffffff; stroke-width: 0.8; stroke-linejoin: miter; stroke-linecap: square\"/>\n   </g>\n   <g id=\"patch_4\">\n    <path d=\"M 361.725 224.64 \nL 361.725 7.2 \n\" style=\"fill: none; stroke: #ffffff; stroke-width: 0.8; stroke-linejoin: miter; stroke-linecap: square\"/>\n   </g>\n   <g id=\"patch_5\">\n    <path d=\"M 26.925 224.64 \nL 361.725 224.64 \n\" style=\"fill: none; stroke: #ffffff; stroke-width: 0.8; stroke-linejoin: miter; stroke-linecap: square\"/>\n   </g>\n   <g id=\"patch_6\">\n    <path d=\"M 26.925 7.2 \nL 361.725 7.2 \n\" style=\"fill: none; stroke: #ffffff; stroke-width: 0.8; stroke-linejoin: miter; stroke-linecap: square\"/>\n   </g>\n  </g>\n </g>\n <defs>\n  <clipPath id=\"pae1deb3517\">\n   <rect x=\"26.925\" y=\"7.2\" width=\"334.8\" height=\"217.44\"/>\n  </clipPath>\n </defs>\n</svg>\n",
      "text/plain": [
       "<Figure size 432x288 with 1 Axes>"
      ]
     },
     "metadata": {},
     "output_type": "display_data"
    }
   ],
   "source": [
    "plt.scatter(dataset[:n_samples, 0], dataset[:n_samples, 1])\n",
    "plt.scatter(dataset[n_samples:, 0], dataset[n_samples:, 1])\n",
    "plt.scatter(centroid_0[0], centroid_0[1], color=\"yellow\")\n",
    "plt.scatter(centroid_1[0], centroid_1[1], color=\"yellow\")\n",
    "plt.show()"
   ]
  },
  {
   "cell_type": "markdown",
   "metadata": {},
   "source": [
    "# Preparar dataset en PyTorch"
   ]
  },
  {
   "cell_type": "code",
   "execution_count": 7,
   "metadata": {},
   "outputs": [],
   "source": [
    "from torch.utils.data import Dataset\n",
    "from torch import tensor\n",
    "\n",
    "class ClassificationDataset(Dataset):\n",
    "    def __init__(self, n_samples_per_class, centroid_0, radius_0, centroid_1, radius_1):\n",
    "        self.dataset = np.zeros((n_samples_per_class * 2, 3), dtype=np.float32)\n",
    "        self.createDataset(n_samples_per_class, centroid_0, radius_0, centroid_1, radius_1)\n",
    "        \n",
    "        self.n_samples = n_samples_per_class\n",
    "        self.centroid_0 = centroid_0\n",
    "        self.centroid_1 = centroid_1\n",
    "        \n",
    "    def __len__(self):\n",
    "        return self.dataset.shape[0]\n",
    "    \n",
    "    def __getitem__(self, idx):\n",
    "        x = tensor(self.dataset[idx, [0,1]])\n",
    "        y = tensor(self.dataset[idx, 1])\n",
    "            \n",
    "        return [x, y]\n",
    "    \n",
    "    def createDataset(self, n_samples_per_class, centroid_0, radius_0, centroid_1, radius_1):\n",
    "        sample_radio_0 = (radius_0 * np.random.uniform(0, 1, n_samples_per_class))\n",
    "        sample_angl_0 = (2 * np.pi * np.random.uniform(0, 1, n_samples_per_class))\n",
    "        self.dataset[:n_samples_per_class, 0] = centroid_0[0] + sample_radio_0[:]*(np.cos(sample_angl_0[:]))\n",
    "        self.dataset[:n_samples_per_class, 1] = centroid_0[1] + sample_radio_0[:]*(np.sin(sample_angl_0[:]))\n",
    "        \n",
    "        sample_radio_1 = (cluster_radius * np.random.uniform(0, 1, n_samples_per_class))\n",
    "        sample_angl_1 = (2 * np.pi * np.random.uniform(0, 1, n_samples_per_class))\n",
    "\n",
    "        self.dataset[n_samples_per_class:, 0] = centroid_1[0] + sample_radio_1[:]*(np.cos(sample_angl_1[:]))\n",
    "        self.dataset[n_samples_per_class:, 1] = centroid_1[1] + sample_radio_1[:]*(np.sin(sample_angl_1[:]))\n",
    "        self.dataset[n_samples_per_class:, 2] = 1\n",
    "        \n",
    "    def show(self):\n",
    "        plt.scatter(self.dataset[:self.n_samples, 0], self.dataset[:self.n_samples, 1])\n",
    "        plt.scatter(self.dataset[self.n_samples:, 0], self.dataset[self.n_samples:, 1])\n",
    "        plt.scatter(self.centroid_0[0], self.centroid_0[1], color=\"yellow\")\n",
    "        plt.scatter(self.centroid_1[0], self.centroid_1[1], color=\"yellow\")\n",
    "        plt.show()"
   ]
  },
  {
   "cell_type": "code",
   "execution_count": 8,
   "metadata": {
    "scrolled": false
   },
   "outputs": [
    {
     "data": {
      "image/png": "[encoded data removed]",
      "image/svg+xml": "<?xml version=\"1.0\" encoding=\"utf-8\" standalone=\"no\"?>\n<!DOCTYPE svg PUBLIC \"-//W3C//DTD SVG 1.1//EN\"\n  \"http://www.w3.org/Graphics/SVG/1.1/DTD/svg11.dtd\">\n<svg xmlns:xlink=\"http://www.w3.org/1999/xlink\" width=\"368.925pt\" height=\"248.518125pt\" viewBox=\"0 0 368.925 248.518125\" xmlns=\"http://www.w3.org/2000/svg\" version=\"1.1\">\n <metadata>\n  <rdf:RDF xmlns:dc=\"http://purl.org/dc/elements/1.1/\" xmlns:cc=\"http://creativecommons.org/ns#\" xmlns:rdf=\"http://www.w3.org/1999/02/22-rdf-syntax-ns#\">\n   <cc:Work>\n    <dc:type rdf:resource=\"http://purl.org/dc/dcmitype/StillImage\"/>\n    <dc:date>2022-03-22T11:08:56.401676</dc:date>\n    <dc:format>image/svg+xml</dc:format>\n    <dc:creator>\n     <cc:Agent>\n      <dc:title>Matplotlib v3.5.1, https://matplotlib.org/</dc:title>\n     </cc:Agent>\n    </dc:creator>\n   </cc:Work>\n  </rdf:RDF>\n </metadata>\n <defs>\n  <style type=\"text/css\">*{stroke-linejoin: round; stroke-linecap: butt}</style>\n </defs>\n <g id=\"figure_1\">\n  <g id=\"patch_1\">\n   <path d=\"M -0 248.518125 \nL 368.925 248.518125 \nL 368.925 0 \nL -0 0 \nz\n\"/>\n  </g>\n  <g id=\"axes_1\">\n   <g id=\"patch_2\">\n    <path d=\"M 26.925 224.64 \nL 361.725 224.64 \nL 361.725 7.2 \nL 26.925 7.2 \nz\n\"/>\n   </g>\n   <g id=\"PathCollection_1\">\n    <defs>\n     <path id=\"m778b4f0a87\" d=\"M 0 3 \nC 0.795609 3 1.55874 2.683901 2.12132 2.12132 \nC 2.683901 1.55874 3 0.795609 3 0 \nC 3 -0.795609 2.683901 -1.55874 2.12132 -2.12132 \nC 1.55874 -2.683901 0.795609 -3 0 -3 \nC -0.795609 -3 -1.55874 -2.683901 -2.12132 -2.12132 \nC -2.683901 -1.55874 -3 -0.795609 -3 0 \nC -3 0.795609 -2.683901 1.55874 -2.12132 2.12132 \nC -1.55874 2.683901 -0.795609 3 0 3 \nz\n\" style=\"stroke: #8dd3c7\"/>\n    </defs>\n    <g clip-path=\"url(#pd9f4d7fbbe)\">\n     <use xlink:href=\"#m778b4f0a87\" x=\"111.060645\" y=\"208.116944\" style=\"fill: #8dd3c7; stroke: #8dd3c7\"/>\n     <use xlink:href=\"#m778b4f0a87\" x=\"122.271571\" y=\"192.599171\" style=\"fill: #8dd3c7; stroke: #8dd3c7\"/>\n     <use xlink:href=\"#m778b4f0a87\" x=\"126.900275\" y=\"165.354929\" style=\"fill: #8dd3c7; stroke: #8dd3c7\"/>\n     <use xlink:href=\"#m778b4f0a87\" x=\"42.143182\" y=\"198.386621\" style=\"fill: #8dd3c7; stroke: #8dd3c7\"/>\n     <use xlink:href=\"#m778b4f0a87\" x=\"117.640019\" y=\"147.456739\" style=\"fill: #8dd3c7; stroke: #8dd3c7\"/>\n     <use xlink:href=\"#m778b4f0a87\" x=\"140.544033\" y=\"214.756364\" style=\"fill: #8dd3c7; stroke: #8dd3c7\"/>\n     <use xlink:href=\"#m778b4f0a87\" x=\"115.251375\" y=\"198.850667\" style=\"fill: #8dd3c7; stroke: #8dd3c7\"/>\n     <use xlink:href=\"#m778b4f0a87\" x=\"89.186746\" y=\"197.79974\" style=\"fill: #8dd3c7; stroke: #8dd3c7\"/>\n     <use xlink:href=\"#m778b4f0a87\" x=\"115.787854\" y=\"192.25004\" style=\"fill: #8dd3c7; stroke: #8dd3c7\"/>\n     <use xlink:href=\"#m778b4f0a87\" x=\"139.594312\" y=\"176.779012\" style=\"fill: #8dd3c7; stroke: #8dd3c7\"/>\n     <use xlink:href=\"#m778b4f0a87\" x=\"160.359388\" y=\"164.589139\" style=\"fill: #8dd3c7; stroke: #8dd3c7\"/>\n     <use xlink:href=\"#m778b4f0a87\" x=\"111.270489\" y=\"147.497369\" style=\"fill: #8dd3c7; stroke: #8dd3c7\"/>\n    </g>\n   </g>\n   <g id=\"PathCollection_2\">\n    <defs>\n     <path id=\"m67dd93f361\" d=\"M 0 3 \nC 0.795609 3 1.55874 2.683901 2.12132 2.12132 \nC 2.683901 1.55874 3 0.795609 3 0 \nC 3 -0.795609 2.683901 -1.55874 2.12132 -2.12132 \nC 1.55874 -2.683901 0.795609 -3 0 -3 \nC -0.795609 -3 -1.55874 -2.683901 -2.12132 -2.12132 \nC -2.683901 -1.55874 -3 -0.795609 -3 0 \nC -3 0.795609 -2.683901 1.55874 -2.12132 2.12132 \nC -1.55874 2.683901 -0.795609 3 0 3 \nz\n\" style=\"stroke: #feffb3\"/>\n    </defs>\n    <g clip-path=\"url(#pd9f4d7fbbe)\">\n     <use xlink:href=\"#m67dd93f361\" x=\"346.506818\" y=\"60.683229\" style=\"fill: #feffb3; stroke: #feffb3\"/>\n     <use xlink:href=\"#m67dd93f361\" x=\"298.351537\" y=\"28.725651\" style=\"fill: #feffb3; stroke: #feffb3\"/>\n     <use xlink:href=\"#m67dd93f361\" x=\"234.554524\" y=\"70.35279\" style=\"fill: #feffb3; stroke: #feffb3\"/>\n     <use xlink:href=\"#m67dd93f361\" x=\"221.971215\" y=\"97.526294\" style=\"fill: #feffb3; stroke: #feffb3\"/>\n     <use xlink:href=\"#m67dd93f361\" x=\"296.928457\" y=\"128.481209\" style=\"fill: #feffb3; stroke: #feffb3\"/>\n     <use xlink:href=\"#m67dd93f361\" x=\"272.182587\" y=\"85.394946\" style=\"fill: #feffb3; stroke: #feffb3\"/>\n     <use xlink:href=\"#m67dd93f361\" x=\"304.473186\" y=\"80.285792\" style=\"fill: #feffb3; stroke: #feffb3\"/>\n     <use xlink:href=\"#m67dd93f361\" x=\"311.20457\" y=\"49.156252\" style=\"fill: #feffb3; stroke: #feffb3\"/>\n     <use xlink:href=\"#m67dd93f361\" x=\"275.611963\" y=\"59.700935\" style=\"fill: #feffb3; stroke: #feffb3\"/>\n     <use xlink:href=\"#m67dd93f361\" x=\"249.968431\" y=\"17.083636\" style=\"fill: #feffb3; stroke: #feffb3\"/>\n     <use xlink:href=\"#m67dd93f361\" x=\"255.946518\" y=\"74.060185\" style=\"fill: #feffb3; stroke: #feffb3\"/>\n     <use xlink:href=\"#m67dd93f361\" x=\"256.897765\" y=\"42.13621\" style=\"fill: #feffb3; stroke: #feffb3\"/>\n    </g>\n   </g>\n   <g id=\"PathCollection_3\">\n    <defs>\n     <path id=\"mbe76c8b8e0\" d=\"M 0 3 \nC 0.795609 3 1.55874 2.683901 2.12132 2.12132 \nC 2.683901 1.55874 3 0.795609 3 0 \nC 3 -0.795609 2.683901 -1.55874 2.12132 -2.12132 \nC 1.55874 -2.683901 0.795609 -3 0 -3 \nC -0.795609 -3 -1.55874 -2.683901 -2.12132 -2.12132 \nC -2.683901 -1.55874 -3 -0.795609 -3 0 \nC -3 0.795609 -2.683901 1.55874 -2.12132 2.12132 \nC -1.55874 2.683901 -0.795609 3 0 3 \nz\n\" style=\"stroke: #ffff00\"/>\n    </defs>\n    <g clip-path=\"url(#pd9f4d7fbbe)\">\n     <use xlink:href=\"#mbe76c8b8e0\" x=\"114.783106\" y=\"199.635328\" style=\"fill: #ffff00; stroke: #ffff00\"/>\n    </g>\n   </g>\n   <g id=\"PathCollection_4\">\n    <g clip-path=\"url(#pd9f4d7fbbe)\">\n     <use xlink:href=\"#mbe76c8b8e0\" x=\"274.211907\" y=\"65.840487\" style=\"fill: #ffff00; stroke: #ffff00\"/>\n    </g>\n   </g>\n   <g id=\"matplotlib.axis_1\">\n    <g id=\"xtick_1\">\n     <g id=\"line2d_1\">\n      <defs>\n       <path id=\"mf2bb8810d0\" d=\"M 0 0 \nL 0 3.5 \n\" style=\"stroke: #ffffff; stroke-width: 0.8\"/>\n      </defs>\n      <g>\n       <use xlink:href=\"#mf2bb8810d0\" x=\"46.456478\" y=\"224.64\" style=\"fill: #ffffff; stroke: #ffffff; stroke-width: 0.8\"/>\n      </g>\n     </g>\n     <g id=\"text_1\">\n      <!-- −2 -->\n      <g style=\"fill: #ffffff\" transform=\"translate(39.085384 239.238438)scale(0.1 -0.1)\">\n       <defs>\n        <path id=\"DejaVuSans-2212\" d=\"M 678 2272 \nL 4684 2272 \nL 4684 1741 \nL 678 1741 \nL 678 2272 \nz\n\" transform=\"scale(0.015625)\"/>\n        <path id=\"DejaVuSans-32\" d=\"M 1228 531 \nL 3431 531 \nL 3431 0 \nL 469 0 \nL 469 531 \nQ 828 903 1448 1529 \nQ 2069 2156 2228 2338 \nQ 2531 2678 2651 2914 \nQ 2772 3150 2772 3378 \nQ 2772 3750 2511 3984 \nQ 2250 4219 1831 4219 \nQ 1534 4219 1204 4116 \nQ 875 4013 500 3803 \nL 500 4441 \nQ 881 4594 1212 4672 \nQ 1544 4750 1819 4750 \nQ 2544 4750 2975 4387 \nQ 3406 4025 3406 3419 \nQ 3406 3131 3298 2873 \nQ 3191 2616 2906 2266 \nQ 2828 2175 2409 1742 \nQ 1991 1309 1228 531 \nz\n\" transform=\"scale(0.015625)\"/>\n       </defs>\n       <use xlink:href=\"#DejaVuSans-2212\"/>\n       <use xlink:href=\"#DejaVuSans-32\" x=\"83.789062\"/>\n      </g>\n     </g>\n    </g>\n    <g id=\"xtick_2\">\n     <g id=\"line2d_2\">\n      <g>\n       <use xlink:href=\"#mf2bb8810d0\" x=\"92.007564\" y=\"224.64\" style=\"fill: #ffffff; stroke: #ffffff; stroke-width: 0.8\"/>\n      </g>\n     </g>\n     <g id=\"text_2\">\n      <!-- 0 -->\n      <g style=\"fill: #ffffff\" transform=\"translate(88.826314 239.238438)scale(0.1 -0.1)\">\n       <defs>\n        <path id=\"DejaVuSans-30\" d=\"M 2034 4250 \nQ 1547 4250 1301 3770 \nQ 1056 3291 1056 2328 \nQ 1056 1369 1301 889 \nQ 1547 409 2034 409 \nQ 2525 409 2770 889 \nQ 3016 1369 3016 2328 \nQ 3016 3291 2770 3770 \nQ 2525 4250 2034 4250 \nz\nM 2034 4750 \nQ 2819 4750 3233 4129 \nQ 3647 3509 3647 2328 \nQ 3647 1150 3233 529 \nQ 2819 -91 2034 -91 \nQ 1250 -91 836 529 \nQ 422 1150 422 2328 \nQ 422 3509 836 4129 \nQ 1250 4750 2034 4750 \nz\n\" transform=\"scale(0.015625)\"/>\n       </defs>\n       <use xlink:href=\"#DejaVuSans-30\"/>\n      </g>\n     </g>\n    </g>\n    <g id=\"xtick_3\">\n     <g id=\"line2d_3\">\n      <g>\n       <use xlink:href=\"#mf2bb8810d0\" x=\"137.558649\" y=\"224.64\" style=\"fill: #ffffff; stroke: #ffffff; stroke-width: 0.8\"/>\n      </g>\n     </g>\n     <g id=\"text_3\">\n      <!-- 2 -->\n      <g style=\"fill: #ffffff\" transform=\"translate(134.377399 239.238438)scale(0.1 -0.1)\">\n       <use xlink:href=\"#DejaVuSans-32\"/>\n      </g>\n     </g>\n    </g>\n    <g id=\"xtick_4\">\n     <g id=\"line2d_4\">\n      <g>\n       <use xlink:href=\"#mf2bb8810d0\" x=\"183.109735\" y=\"224.64\" style=\"fill: #ffffff; stroke: #ffffff; stroke-width: 0.8\"/>\n      </g>\n     </g>\n     <g id=\"text_4\">\n      <!-- 4 -->\n      <g style=\"fill: #ffffff\" transform=\"translate(179.928485 239.238438)scale(0.1 -0.1)\">\n       <defs>\n        <path id=\"DejaVuSans-34\" d=\"M 2419 4116 \nL 825 1625 \nL 2419 1625 \nL 2419 4116 \nz\nM 2253 4666 \nL 3047 4666 \nL 3047 1625 \nL 3713 1625 \nL 3713 1100 \nL 3047 1100 \nL 3047 0 \nL 2419 0 \nL 2419 1100 \nL 313 1100 \nL 313 1709 \nL 2253 4666 \nz\n\" transform=\"scale(0.015625)\"/>\n       </defs>\n       <use xlink:href=\"#DejaVuSans-34\"/>\n      </g>\n     </g>\n    </g>\n    <g id=\"xtick_5\">\n     <g id=\"line2d_5\">\n      <g>\n       <use xlink:href=\"#mf2bb8810d0\" x=\"228.660821\" y=\"224.64\" style=\"fill: #ffffff; stroke: #ffffff; stroke-width: 0.8\"/>\n      </g>\n     </g>\n     <g id=\"text_5\">\n      <!-- 6 -->\n      <g style=\"fill: #ffffff\" transform=\"translate(225.479571 239.238438)scale(0.1 -0.1)\">\n       <defs>\n        <path id=\"DejaVuSans-36\" d=\"M 2113 2584 \nQ 1688 2584 1439 2293 \nQ 1191 2003 1191 1497 \nQ 1191 994 1439 701 \nQ 1688 409 2113 409 \nQ 2538 409 2786 701 \nQ 3034 994 3034 1497 \nQ 3034 2003 2786 2293 \nQ 2538 2584 2113 2584 \nz\nM 3366 4563 \nL 3366 3988 \nQ 3128 4100 2886 4159 \nQ 2644 4219 2406 4219 \nQ 1781 4219 1451 3797 \nQ 1122 3375 1075 2522 \nQ 1259 2794 1537 2939 \nQ 1816 3084 2150 3084 \nQ 2853 3084 3261 2657 \nQ 3669 2231 3669 1497 \nQ 3669 778 3244 343 \nQ 2819 -91 2113 -91 \nQ 1303 -91 875 529 \nQ 447 1150 447 2328 \nQ 447 3434 972 4092 \nQ 1497 4750 2381 4750 \nQ 2619 4750 2861 4703 \nQ 3103 4656 3366 4563 \nz\n\" transform=\"scale(0.015625)\"/>\n       </defs>\n       <use xlink:href=\"#DejaVuSans-36\"/>\n      </g>\n     </g>\n    </g>\n    <g id=\"xtick_6\">\n     <g id=\"line2d_6\">\n      <g>\n       <use xlink:href=\"#mf2bb8810d0\" x=\"274.211907\" y=\"224.64\" style=\"fill: #ffffff; stroke: #ffffff; stroke-width: 0.8\"/>\n      </g>\n     </g>\n     <g id=\"text_6\">\n      <!-- 8 -->\n      <g style=\"fill: #ffffff\" transform=\"translate(271.030657 239.238438)scale(0.1 -0.1)\">\n       <defs>\n        <path id=\"DejaVuSans-38\" d=\"M 2034 2216 \nQ 1584 2216 1326 1975 \nQ 1069 1734 1069 1313 \nQ 1069 891 1326 650 \nQ 1584 409 2034 409 \nQ 2484 409 2743 651 \nQ 3003 894 3003 1313 \nQ 3003 1734 2745 1975 \nQ 2488 2216 2034 2216 \nz\nM 1403 2484 \nQ 997 2584 770 2862 \nQ 544 3141 544 3541 \nQ 544 4100 942 4425 \nQ 1341 4750 2034 4750 \nQ 2731 4750 3128 4425 \nQ 3525 4100 3525 3541 \nQ 3525 3141 3298 2862 \nQ 3072 2584 2669 2484 \nQ 3125 2378 3379 2068 \nQ 3634 1759 3634 1313 \nQ 3634 634 3220 271 \nQ 2806 -91 2034 -91 \nQ 1263 -91 848 271 \nQ 434 634 434 1313 \nQ 434 1759 690 2068 \nQ 947 2378 1403 2484 \nz\nM 1172 3481 \nQ 1172 3119 1398 2916 \nQ 1625 2713 2034 2713 \nQ 2441 2713 2670 2916 \nQ 2900 3119 2900 3481 \nQ 2900 3844 2670 4047 \nQ 2441 4250 2034 4250 \nQ 1625 4250 1398 4047 \nQ 1172 3844 1172 3481 \nz\n\" transform=\"scale(0.015625)\"/>\n       </defs>\n       <use xlink:href=\"#DejaVuSans-38\"/>\n      </g>\n     </g>\n    </g>\n    <g id=\"xtick_7\">\n     <g id=\"line2d_7\">\n      <g>\n       <use xlink:href=\"#mf2bb8810d0\" x=\"319.762992\" y=\"224.64\" style=\"fill: #ffffff; stroke: #ffffff; stroke-width: 0.8\"/>\n      </g>\n     </g>\n     <g id=\"text_7\">\n      <!-- 10 -->\n      <g style=\"fill: #ffffff\" transform=\"translate(313.400492 239.238438)scale(0.1 -0.1)\">\n       <defs>\n        <path id=\"DejaVuSans-31\" d=\"M 794 531 \nL 1825 531 \nL 1825 4091 \nL 703 3866 \nL 703 4441 \nL 1819 4666 \nL 2450 4666 \nL 2450 531 \nL 3481 531 \nL 3481 0 \nL 794 0 \nL 794 531 \nz\n\" transform=\"scale(0.015625)\"/>\n       </defs>\n       <use xlink:href=\"#DejaVuSans-31\"/>\n       <use xlink:href=\"#DejaVuSans-30\" x=\"63.623047\"/>\n      </g>\n     </g>\n    </g>\n   </g>\n   <g id=\"matplotlib.axis_2\">\n    <g id=\"ytick_1\">\n     <g id=\"line2d_8\">\n      <defs>\n       <path id=\"m343d59d418\" d=\"M 0 0 \nL -3.5 0 \n\" style=\"stroke: #ffffff; stroke-width: 0.8\"/>\n      </defs>\n      <g>\n       <use xlink:href=\"#m343d59d418\" x=\"26.925\" y=\"218.748876\" style=\"fill: #ffffff; stroke: #ffffff; stroke-width: 0.8\"/>\n      </g>\n     </g>\n     <g id=\"text_8\">\n      <!-- 0 -->\n      <g style=\"fill: #ffffff\" transform=\"translate(13.5625 222.548095)scale(0.1 -0.1)\">\n       <use xlink:href=\"#DejaVuSans-30\"/>\n      </g>\n     </g>\n    </g>\n    <g id=\"ytick_2\">\n     <g id=\"line2d_9\">\n      <g>\n       <use xlink:href=\"#m343d59d418\" x=\"26.925\" y=\"180.521779\" style=\"fill: #ffffff; stroke: #ffffff; stroke-width: 0.8\"/>\n      </g>\n     </g>\n     <g id=\"text_9\">\n      <!-- 2 -->\n      <g style=\"fill: #ffffff\" transform=\"translate(13.5625 184.320998)scale(0.1 -0.1)\">\n       <use xlink:href=\"#DejaVuSans-32\"/>\n      </g>\n     </g>\n    </g>\n    <g id=\"ytick_3\">\n     <g id=\"line2d_10\">\n      <g>\n       <use xlink:href=\"#m343d59d418\" x=\"26.925\" y=\"142.294682\" style=\"fill: #ffffff; stroke: #ffffff; stroke-width: 0.8\"/>\n      </g>\n     </g>\n     <g id=\"text_10\">\n      <!-- 4 -->\n      <g style=\"fill: #ffffff\" transform=\"translate(13.5625 146.093901)scale(0.1 -0.1)\">\n       <use xlink:href=\"#DejaVuSans-34\"/>\n      </g>\n     </g>\n    </g>\n    <g id=\"ytick_4\">\n     <g id=\"line2d_11\">\n      <g>\n       <use xlink:href=\"#m343d59d418\" x=\"26.925\" y=\"104.067585\" style=\"fill: #ffffff; stroke: #ffffff; stroke-width: 0.8\"/>\n      </g>\n     </g>\n     <g id=\"text_11\">\n      <!-- 6 -->\n      <g style=\"fill: #ffffff\" transform=\"translate(13.5625 107.866803)scale(0.1 -0.1)\">\n       <use xlink:href=\"#DejaVuSans-36\"/>\n      </g>\n     </g>\n    </g>\n    <g id=\"ytick_5\">\n     <g id=\"line2d_12\">\n      <g>\n       <use xlink:href=\"#m343d59d418\" x=\"26.925\" y=\"65.840487\" style=\"fill: #ffffff; stroke: #ffffff; stroke-width: 0.8\"/>\n      </g>\n     </g>\n     <g id=\"text_12\">\n      <!-- 8 -->\n      <g style=\"fill: #ffffff\" transform=\"translate(13.5625 69.639706)scale(0.1 -0.1)\">\n       <use xlink:href=\"#DejaVuSans-38\"/>\n      </g>\n     </g>\n    </g>\n    <g id=\"ytick_6\">\n     <g id=\"line2d_13\">\n      <g>\n       <use xlink:href=\"#m343d59d418\" x=\"26.925\" y=\"27.61339\" style=\"fill: #ffffff; stroke: #ffffff; stroke-width: 0.8\"/>\n      </g>\n     </g>\n     <g id=\"text_13\">\n      <!-- 10 -->\n      <g style=\"fill: #ffffff\" transform=\"translate(7.2 31.412609)scale(0.1 -0.1)\">\n       <use xlink:href=\"#DejaVuSans-31\"/>\n       <use xlink:href=\"#DejaVuSans-30\" x=\"63.623047\"/>\n      </g>\n     </g>\n    </g>\n   </g>\n   <g id=\"patch_3\">\n    <path d=\"M 26.925 224.64 \nL 26.925 7.2 \n\" style=\"fill: none; stroke: #ffffff; stroke-width: 0.8; stroke-linejoin: miter; stroke-linecap: square\"/>\n   </g>\n   <g id=\"patch_4\">\n    <path d=\"M 361.725 224.64 \nL 361.725 7.2 \n\" style=\"fill: none; stroke: #ffffff; stroke-width: 0.8; stroke-linejoin: miter; stroke-linecap: square\"/>\n   </g>\n   <g id=\"patch_5\">\n    <path d=\"M 26.925 224.64 \nL 361.725 224.64 \n\" style=\"fill: none; stroke: #ffffff; stroke-width: 0.8; stroke-linejoin: miter; stroke-linecap: square\"/>\n   </g>\n   <g id=\"patch_6\">\n    <path d=\"M 26.925 7.2 \nL 361.725 7.2 \n\" style=\"fill: none; stroke: #ffffff; stroke-width: 0.8; stroke-linejoin: miter; stroke-linecap: square\"/>\n   </g>\n  </g>\n </g>\n <defs>\n  <clipPath id=\"pd9f4d7fbbe\">\n   <rect x=\"26.925\" y=\"7.2\" width=\"334.8\" height=\"217.44\"/>\n  </clipPath>\n </defs>\n</svg>\n",
      "text/plain": [
       "<Figure size 432x288 with 1 Axes>"
      ]
     },
     "metadata": {},
     "output_type": "display_data"
    },
    {
     "name": "stdout",
     "output_type": "stream",
     "text": [
      "torch.Size([21, 2])\n",
      "torch.Size([21])\n",
      "torch.Size([3, 2])\n",
      "torch.Size([3])\n"
     ]
    }
   ],
   "source": [
    "from torch.utils.data import DataLoader\n",
    "\n",
    "# n_samples_per_class, centroid_0, radius_0, centroid_1, radius_1\n",
    "\n",
    "n_samples = 12\n",
    "cluster_radius = 3.5\n",
    "centroid_0 = np.array([1, 1], dtype=np.float32)\n",
    "centroid_1 = np.array([8, 8], dtype=np.float32)\n",
    "\n",
    "\n",
    "train_set = ClassificationDataset(n_samples, centroid_0, cluster_radius, centroid_1, cluster_radius)\n",
    "validation_set = ClassificationDataset(12, centroid_0, cluster_radius, centroid_1, cluster_radius)\n",
    "\n",
    "train_set.show()\n",
    "\n",
    "batch_size = 21\n",
    "\n",
    "dataloaders = {\n",
    "    'train': DataLoader(train_set, batch_size=batch_size, shuffle=True, num_workers=0),\n",
    "    'validation': DataLoader(validation_set, batch_size=batch_size, shuffle=True, num_workers=0),\n",
    "}\n",
    "\n",
    "for inputs, labels in dataloaders['train']:\n",
    "     print(inputs.size())\n",
    "     print(labels.size())\n",
    "    "
   ]
  },
  {
   "cell_type": "markdown",
   "metadata": {},
   "source": [
    "# Perceptron"
   ]
  },
  {
   "cell_type": "code",
   "execution_count": 9,
   "metadata": {},
   "outputs": [],
   "source": [
    "class Perceptron(nn.Module):\n",
    "    def __init__(self, input_size, output_size):\n",
    "        super().__init__()\n",
    "        self.linear = torch.nn.Linear(input_size, output_size)\n",
    "        self.activation = torch.nn.Sigmoid() #TODO\n",
    "        \n",
    "    def forward(self, x):\n",
    "        out = self.linear(x)\n",
    "        return self.activation(out)"
   ]
  },
  {
   "cell_type": "markdown",
   "metadata": {},
   "source": [
    "# Método de entrenamiento"
   ]
  },
  {
   "cell_type": "code",
   "execution_count": 10,
   "metadata": {},
   "outputs": [],
   "source": [
    "import copy \n",
    "from torch.autograd import Variable\n",
    "\n",
    "def train(dataset, model, optimizer, criterion, num_epochs=25):\n",
    "    best_model_weigths = copy.deepcopy(model.state_dict())\n",
    "    best_loss = 1e10\n",
    "    \n",
    "    device = torch.device(\"cpu\")\n",
    "    if torch.cuda.is_available:\n",
    "        device=torch.device(\"cuda\")  \n",
    "    \n",
    "    for epoch in range(num_epochs):\n",
    "        inputs = torch.tensor(dataset['x']).to(device)\n",
    "        targets = torch.tensor(dataset['y']).to(device)\n",
    "        \n",
    "        optimizer.zero_grad()\n",
    "        outputs = model(inputs)\n",
    "        \n",
    "        loss = criterion(outputs, targets)\n",
    "            \n",
    "        # get gradients w.r.t to parameters\n",
    "        loss.backward()\n",
    "\n",
    "        # update parameters\n",
    "        optimizer.step()\n",
    "        \n",
    "        # LOG\n",
    "        if (epoch % 10 == 0):\n",
    "            print('epoch {}, loss {}'.format(epoch, loss.item()))\n",
    "        \n",
    "        if (loss.item() < best_loss):\n",
    "            best_loss = loss.item()\n",
    "            best_model_weigths = copy.deepcopy(model.state_dict())\n",
    "        \n",
    "    print('epoch {}, loss {}'.format(epoch, loss.item()))\n",
    "    print('Best loss: {}'.format(best_loss))\n",
    "            \n",
    "    model.load_state_dict(best_model_weigths)"
   ]
  },
  {
   "cell_type": "markdown",
   "metadata": {},
   "source": [
    "# Creación del modelo"
   ]
  },
  {
   "cell_type": "code",
   "execution_count": 11,
   "metadata": {},
   "outputs": [],
   "source": [
    "input_dim = 2        # takes variable 'x' \n",
    "output_dim = 1       # takes variable 'y'\n",
    "\n",
    "device=torch.device(\"cpu\")\n",
    "if torch.cuda.is_available:\n",
    "    device=torch.device(\"cuda\")\n",
    "\n",
    "model = Perceptron(input_dim, output_dim).to(device)"
   ]
  },
  {
   "cell_type": "markdown",
   "metadata": {},
   "source": [
    "# Prueba"
   ]
  },
  {
   "cell_type": "code",
   "execution_count": 12,
   "metadata": {},
   "outputs": [],
   "source": [
    "training_dataset = {'x': dataset[:, [0,1]], 'y': dataset[:, 2].reshape((-1, 1))}"
   ]
  },
  {
   "cell_type": "code",
   "execution_count": 13,
   "metadata": {
    "scrolled": true
   },
   "outputs": [
    {
     "name": "stdout",
     "output_type": "stream",
     "text": [
      "epoch 0, loss 1.5105972290039062\n",
      "epoch 10, loss 0.6297664046287537\n",
      "epoch 20, loss 0.574414849281311\n",
      "epoch 30, loss 0.5547541975975037\n",
      "epoch 40, loss 0.5406185984611511\n",
      "epoch 50, loss 0.5280861258506775\n",
      "epoch 60, loss 0.516303300857544\n",
      "epoch 70, loss 0.5050351619720459\n",
      "epoch 80, loss 0.4942053258419037\n",
      "epoch 90, loss 0.4837832450866699\n",
      "epoch 100, loss 0.4737519323825836\n",
      "epoch 110, loss 0.4640985429286957\n",
      "epoch 120, loss 0.45481109619140625\n",
      "epoch 130, loss 0.4458776116371155\n",
      "epoch 140, loss 0.4372859001159668\n",
      "epoch 150, loss 0.42902350425720215\n",
      "epoch 160, loss 0.42107802629470825\n",
      "epoch 170, loss 0.4134367108345032\n",
      "epoch 180, loss 0.4060872197151184\n",
      "epoch 190, loss 0.39901700615882874\n",
      "epoch 200, loss 0.3922138810157776\n",
      "epoch 210, loss 0.3856658935546875\n",
      "epoch 220, loss 0.3793613314628601\n",
      "epoch 230, loss 0.3732888698577881\n",
      "epoch 240, loss 0.36743757128715515\n",
      "epoch 250, loss 0.36179685592651367\n",
      "epoch 260, loss 0.35635659098625183\n",
      "epoch 270, loss 0.3511069715023041\n",
      "epoch 280, loss 0.3460387885570526\n",
      "epoch 290, loss 0.34114310145378113\n",
      "epoch 300, loss 0.3364114761352539\n",
      "epoch 310, loss 0.33183595538139343\n",
      "epoch 320, loss 0.3274088203907013\n",
      "epoch 330, loss 0.3231227695941925\n",
      "epoch 340, loss 0.3189711570739746\n",
      "epoch 350, loss 0.31494733691215515\n",
      "epoch 360, loss 0.31104522943496704\n",
      "epoch 370, loss 0.30725905299186707\n",
      "epoch 380, loss 0.3035832941532135\n",
      "epoch 390, loss 0.30001282691955566\n",
      "epoch 400, loss 0.2965427339076996\n",
      "epoch 410, loss 0.2931685149669647\n",
      "epoch 420, loss 0.2898857295513153\n",
      "epoch 430, loss 0.28669029474258423\n",
      "epoch 440, loss 0.28357836604118347\n",
      "epoch 450, loss 0.28054627776145935\n",
      "epoch 460, loss 0.2775906026363373\n",
      "epoch 470, loss 0.2747080326080322\n",
      "epoch 480, loss 0.2718956172466278\n",
      "epoch 490, loss 0.26915034651756287\n",
      "epoch 500, loss 0.2664695680141449\n",
      "epoch 510, loss 0.26385053992271423\n",
      "epoch 520, loss 0.2612909972667694\n",
      "epoch 530, loss 0.2587885558605194\n",
      "epoch 540, loss 0.25634095072746277\n",
      "epoch 550, loss 0.25394609570503235\n",
      "epoch 560, loss 0.2516021728515625\n",
      "epoch 570, loss 0.24930720031261444\n",
      "epoch 580, loss 0.2470593899488449\n",
      "epoch 590, loss 0.24485717713832855\n",
      "epoch 600, loss 0.2426988184452057\n",
      "epoch 610, loss 0.2405828982591629\n",
      "epoch 620, loss 0.238507941365242\n",
      "epoch 630, loss 0.23647263646125793\n",
      "epoch 640, loss 0.23447556793689728\n",
      "epoch 650, loss 0.23251557350158691\n",
      "epoch 660, loss 0.23059141635894775\n",
      "epoch 670, loss 0.22870202362537384\n",
      "epoch 680, loss 0.22684626281261444\n",
      "epoch 690, loss 0.22502318024635315\n",
      "epoch 700, loss 0.223231703042984\n",
      "epoch 710, loss 0.22147098183631897\n",
      "epoch 720, loss 0.21974006295204163\n",
      "epoch 730, loss 0.21803808212280273\n",
      "epoch 740, loss 0.21636426448822021\n",
      "epoch 750, loss 0.2147178202867508\n",
      "epoch 760, loss 0.2130979597568512\n",
      "epoch 770, loss 0.21150393784046173\n",
      "epoch 780, loss 0.20993518829345703\n",
      "epoch 790, loss 0.20839086174964905\n",
      "epoch 800, loss 0.20687046647071838\n",
      "epoch 810, loss 0.20537327229976654\n",
      "epoch 820, loss 0.2038988620042801\n",
      "epoch 830, loss 0.20244650542736053\n",
      "epoch 840, loss 0.2010156661272049\n",
      "epoch 850, loss 0.19960586726665497\n",
      "epoch 860, loss 0.19821660220623016\n",
      "epoch 870, loss 0.19684739410877228\n",
      "epoch 880, loss 0.19549773633480072\n",
      "epoch 890, loss 0.1941671520471573\n",
      "epoch 900, loss 0.19285526871681213\n",
      "epoch 910, loss 0.19156160950660706\n",
      "epoch 920, loss 0.190285786986351\n",
      "epoch 930, loss 0.18902741372585297\n",
      "epoch 940, loss 0.18778608739376068\n",
      "epoch 950, loss 0.1865614503622055\n",
      "epoch 960, loss 0.185353085398674\n",
      "epoch 970, loss 0.1841607540845871\n",
      "epoch 980, loss 0.18298403918743134\n",
      "epoch 990, loss 0.18182264268398285\n",
      "epoch 999, loss 0.18079020082950592\n",
      "Best loss: 0.18079020082950592\n"
     ]
    }
   ],
   "source": [
    "learningRate = 0.01\n",
    "epochs = 1000\n",
    "criterion = torch.nn.BCELoss() \n",
    "optimizer = torch.optim.SGD(model.parameters(), lr=learningRate)\n",
    "\n",
    "train(training_dataset, model, optimizer, criterion, num_epochs=epochs)"
   ]
  },
  {
   "cell_type": "code",
   "execution_count": null,
   "metadata": {},
   "outputs": [],
   "source": []
  }
 ],
 "metadata": {
  "kernelspec": {
   "display_name": "Python 3",
   "language": "python",
   "name": "python3"
  },
  "language_info": {
   "codemirror_mode": {
    "name": "ipython",
    "version": 3
   },
   "file_extension": ".py",
   "mimetype": "text/x-python",
   "name": "python",
   "nbconvert_exporter": "python",
   "pygments_lexer": "ipython3",
   "version": "3.9.10"
  }
 },
 "nbformat": 4,
 "nbformat_minor": 2
}
